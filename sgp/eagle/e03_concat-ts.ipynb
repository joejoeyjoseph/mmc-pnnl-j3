{
 "cells": [
  {
   "cell_type": "code",
   "execution_count": 1,
   "metadata": {},
   "outputs": [
    {
     "ename": "FileNotFoundError",
     "evalue": "[Errno 2] No such file or directory: '/projects/mmc/jlee/sgp/wrf-mmc/wrf-runs/a1_0805m_30s/z_ts_to080600/rsl.out.0000'",
     "output_type": "error",
     "traceback": [
      "\u001b[0;31m---------------------------------------------------------------------------\u001b[0m",
      "\u001b[0;31mFileNotFoundError\u001b[0m                         Traceback (most recent call last)",
      "\u001b[0;32m<ipython-input-1-72e3b49fe9f1>\u001b[0m in \u001b[0;36m<module>\u001b[0;34m\u001b[0m\n\u001b[1;32m     24\u001b[0m         \u001b[0mdata\u001b[0m \u001b[0;34m=\u001b[0m \u001b[0mfp\u001b[0m\u001b[0;34m.\u001b[0m\u001b[0mread\u001b[0m\u001b[0;34m(\u001b[0m\u001b[0;34m)\u001b[0m\u001b[0;34m\u001b[0m\u001b[0;34m\u001b[0m\u001b[0m\n\u001b[1;32m     25\u001b[0m \u001b[0;34m\u001b[0m\u001b[0m\n\u001b[0;32m---> 26\u001b[0;31m     \u001b[0;32mwith\u001b[0m \u001b[0mopen\u001b[0m\u001b[0;34m(\u001b[0m\u001b[0mrun_dir\u001b[0m\u001b[0;34m+\u001b[0m\u001b[0mdir_2\u001b[0m\u001b[0;34m+\u001b[0m\u001b[0mf\u001b[0m\u001b[0;34m)\u001b[0m \u001b[0;32mas\u001b[0m \u001b[0mfp\u001b[0m\u001b[0;34m:\u001b[0m\u001b[0;34m\u001b[0m\u001b[0;34m\u001b[0m\u001b[0m\n\u001b[0m\u001b[1;32m     27\u001b[0m         \u001b[0;31m# skip the first line because the first line of a ts file is not data\u001b[0m\u001b[0;34m\u001b[0m\u001b[0;34m\u001b[0m\u001b[0;34m\u001b[0m\u001b[0m\n\u001b[1;32m     28\u001b[0m         \u001b[0mnext\u001b[0m\u001b[0;34m(\u001b[0m\u001b[0mfp\u001b[0m\u001b[0;34m)\u001b[0m\u001b[0;34m\u001b[0m\u001b[0;34m\u001b[0m\u001b[0m\n",
      "\u001b[0;31mFileNotFoundError\u001b[0m: [Errno 2] No such file or directory: '/projects/mmc/jlee/sgp/wrf-mmc/wrf-runs/a1_0805m_30s/z_ts_to080600/rsl.out.0000'"
     ]
    }
   ],
   "source": [
    "import os\n",
    "import glob\n",
    "from collections import OrderedDict\n",
    "\n",
    "run_dir = '/projects/mmc/jlee/sgp/wrf-mmc/wrf-runs/a1_0805m_30s/'\n",
    "dir_1 = 'z_ts_to080522/'\n",
    "dir_2 = 'z_ts_to080600/'\n",
    "dir_out = 'z_ts/'\n",
    "\n",
    "# return list of duplicated indices in list\n",
    "def list_duplicates(seq):\n",
    "    seen = set()\n",
    "    seen_add = seen.add\n",
    "    # need to +1 because the first line of a ts file is not data\n",
    "    return [idx+1 for idx, item in enumerate(seq) if item in seen or seen_add(item)]\n",
    "\n",
    "files = [os.path.basename(i) for i in glob.glob(run_dir+dir_1+'*')]\n",
    "\n",
    "# files = ['z.c1.d02.TH']\n",
    "\n",
    "for f in files: \n",
    "\n",
    "    with open(run_dir+dir_1+f) as fp:\n",
    "        data = fp.read()\n",
    "\n",
    "    with open(run_dir+dir_2+f) as fp:\n",
    "        # skip the first line because the first line of a ts file is not data\n",
    "        next(fp)\n",
    "        data2 = fp.read()\n",
    "\n",
    "    data += data2\n",
    "\n",
    "    list_all = list(OrderedDict.fromkeys(data.split('\\n')))\n",
    "\n",
    "    if f[-2:] == 'TS': \n",
    "        time_start, time_end = 6, 15\n",
    "    else: \n",
    "        time_start, time_end = 4, 13\n",
    "    \n",
    "    # screen data based on time steps in hours\n",
    "    time_steps = []\n",
    "    for i in list_all[1:]:\n",
    "        time_steps.append(i[time_start:time_end]) # hard coded...\n",
    "\n",
    "    duplicate_index = list_duplicates(time_steps)\n",
    "\n",
    "    list_out = [list_all[i] for i in range(len(list_all)) if i not in duplicate_index]\n",
    "\n",
    "    list_out = '\\n'.join(list_out)\n",
    "\n",
    "    with open (run_dir+dir_out+f, 'w') as fp:\n",
    "        fp.write(list_out)"
   ]
  },
  {
   "cell_type": "code",
   "execution_count": null,
   "metadata": {},
   "outputs": [],
   "source": []
  }
 ],
 "metadata": {
  "kernelspec": {
   "display_name": "mmc_sgp",
   "language": "python",
   "name": "mmc_sgp"
  },
  "language_info": {
   "codemirror_mode": {
    "name": "ipython",
    "version": 3
   },
   "file_extension": ".py",
   "mimetype": "text/x-python",
   "name": "python",
   "nbconvert_exporter": "python",
   "pygments_lexer": "ipython3",
   "version": "3.8.6"
  },
  "toc": {
   "base_numbering": 1,
   "nav_menu": {},
   "number_sections": true,
   "sideBar": true,
   "skip_h1_title": false,
   "title_cell": "Table of Contents",
   "title_sidebar": "Contents",
   "toc_cell": false,
   "toc_position": {},
   "toc_section_display": true,
   "toc_window_display": false
  }
 },
 "nbformat": 4,
 "nbformat_minor": 2
}
