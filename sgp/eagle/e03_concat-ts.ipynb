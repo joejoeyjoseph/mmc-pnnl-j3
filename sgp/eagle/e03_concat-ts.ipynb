{
 "cells": [
  {
   "cell_type": "code",
   "execution_count": 1,
   "metadata": {},
   "outputs": [],
   "source": [
    "import os\n",
    "import glob\n",
    "from collections import OrderedDict\n",
    "\n",
    "run_dir = '/projects/mmcpnnl/jlee/wrf-mmc/sgp/l4_0901e/'\n",
    "dir_1 = 'z_to01-18z/'\n",
    "dir_2 = 'z_to02-00z/'\n",
    "dir_out = 'z_ts/'\n",
    "\n",
    "# return list of duplicated indices in list\n",
    "def list_duplicates(seq):\n",
    "    seen = set()\n",
    "    seen_add = seen.add\n",
    "    # need to +1 because the first line of a ts file is not data\n",
    "    return [idx+1 for idx, item in enumerate(seq) if item in seen or seen_add(item)]\n",
    "\n",
    "files = [os.path.basename(i) for i in glob.glob(run_dir+dir_1+'*')]\n",
    "\n",
    "for f in files: \n",
    "\n",
    "    with open(run_dir+dir_1+f) as fp:\n",
    "        data = fp.read()\n",
    "\n",
    "    with open(run_dir+dir_2+f) as fp:\n",
    "        # skip the first line because the first line of a ts file is not data\n",
    "        next(fp)\n",
    "        data2 = fp.read()\n",
    "\n",
    "    data += data2\n",
    "\n",
    "    list_all = list(OrderedDict.fromkeys(data.split('\\n')))\n",
    "\n",
    "    # screen data based on time steps in hours\n",
    "    time_steps = []\n",
    "    for i in list_all[1:]:\n",
    "        time_steps.append(i[6:15]) # hard coded...\n",
    "\n",
    "    duplicate_index = list_duplicates(time_steps)\n",
    "\n",
    "    list_out = [list_all[i] for i in range(len(list_all)) if i not in duplicate_index]\n",
    "\n",
    "    list_out = '\\n'.join(list_out)\n",
    "\n",
    "    with open (run_dir+dir_out+f, 'w') as fp:\n",
    "        fp.write(list_out)"
   ]
  },
  {
   "cell_type": "code",
   "execution_count": null,
   "metadata": {},
   "outputs": [],
   "source": []
  },
  {
   "cell_type": "code",
   "execution_count": null,
   "metadata": {},
   "outputs": [],
   "source": []
  }
 ],
 "metadata": {
  "kernelspec": {
   "display_name": "mmc_sgp",
   "language": "python",
   "name": "mmc_sgp"
  },
  "language_info": {
   "codemirror_mode": {
    "name": "ipython",
    "version": 3
   },
   "file_extension": ".py",
   "mimetype": "text/x-python",
   "name": "python",
   "nbconvert_exporter": "python",
   "pygments_lexer": "ipython3",
   "version": "3.8.6"
  },
  "toc": {
   "base_numbering": 1,
   "nav_menu": {},
   "number_sections": true,
   "sideBar": true,
   "skip_h1_title": false,
   "title_cell": "Table of Contents",
   "title_sidebar": "Contents",
   "toc_cell": false,
   "toc_position": {},
   "toc_section_display": true,
   "toc_window_display": false
  }
 },
 "nbformat": 4,
 "nbformat_minor": 2
}
